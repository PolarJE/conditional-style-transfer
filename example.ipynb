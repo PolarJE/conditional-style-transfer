{
 "cells": [
  {
   "cell_type": "code",
   "execution_count": null,
   "metadata": {},
   "outputs": [],
   "source": [
    "%matplotlib inline\n",
    "%load_ext autoreload\n",
    "%autoreload 2\n",
    "\n",
    "#import os\n",
    "#os.environ[\"CUDA_DEVICE_ORDER\"]=\"PCI_BUS_ID\"   # see issue #152\n",
    "#os.environ[\"CUDA_VISIBLE_DEVICES\"]=\"2\"\n",
    "\n",
    "import matplotlib\n",
    "import matplotlib.pyplot as plt\n",
    "\n",
    "from options.test_options import TestOptions\n",
    "from options.train_options import TrainOptions\n",
    "from data import CreateDataLoader, CreateStyleDataLoader\n",
    "from models import create_model\n",
    "from util.visualizer import save_images\n",
    "from util import html\n",
    "import torch\n",
    "\n",
    "from collections import OrderedDict\n",
    "\n",
    "import numpy as np"
   ]
  },
  {
   "cell_type": "code",
   "execution_count": null,
   "metadata": {},
   "outputs": [],
   "source": [
    "def renorm_0_1(img, bg = None):\n",
    "    if bg is None:\n",
    "        img = (img - img.min()) / (img.max() - img.min())\n",
    "        return img\n",
    "    else:\n",
    "        img = (img - img[bg == 0].min()) / (img[bg == 0].max() - img[bg == 0].min())\n",
    "        img[bg == 1] = -2.0\n",
    "        return img"
   ]
  },
  {
   "cell_type": "markdown",
   "metadata": {},
   "source": [
    "### Which GPUs should be used"
   ]
  },
  {
   "cell_type": "code",
   "execution_count": null,
   "metadata": {},
   "outputs": [],
   "source": [
    "gpu_ids = '0'"
   ]
  },
  {
   "cell_type": "markdown",
   "metadata": {},
   "source": [
    "### Initialize and load the  model"
   ]
  },
  {
   "cell_type": "code",
   "execution_count": null,
   "metadata": {},
   "outputs": [],
   "source": [
    "# Initialize original model\n",
    "import sys\n",
    "sys.argv = ['test.py',\n",
    "            '--checkpoints_dir', './samples/models/',\n",
    "            '--name', 'GanAuxPretrained',\n",
    "            '--model', 'gan_aux',\n",
    "            '--netG', 'resnet_residual',\n",
    "            '--netD', 'disc_noisy',\n",
    "            '--epoch', '200',\n",
    "            '--gpu_ids', gpu_ids,\n",
    "            '--peer_reg', 'bidir']\n",
    "            \n",
    "\n",
    "opt_ours = TestOptions().parse()\n",
    "# hard-code some parameters for test\n",
    "opt_ours.num_threads = 1   # test code only supports num_threads = 1\n",
    "opt_ours.batch_size = 1    # test code only supports batch_size = 1\n",
    "opt_ours.serial_batches = True  # no shuffle\n",
    "opt_ours.no_flip = True    # no flip\n",
    "opt_ours.display_id = -1   # no visdom display\n",
    "opt_ours.num_style_samples = 1\n",
    "opt_ours.knn = 5\n",
    "opt_ours.eval = True\n",
    "\n",
    "model_ours = create_model(opt_ours)\n",
    "model_ours.setup(opt_ours)\n",
    "\n",
    "# test with eval mode. This only affects layers like batchnorm and dropout.\n",
    "if model_ours.eval:\n",
    "    model_ours.eval()"
   ]
  },
  {
   "cell_type": "markdown",
   "metadata": {},
   "source": [
    "### Prepare data for content and style"
   ]
  },
  {
   "cell_type": "code",
   "execution_count": null,
   "metadata": {},
   "outputs": [],
   "source": [
    "from PIL import Image\n",
    "import torchvision.transforms as transforms\n",
    "\n",
    "def get_transform(loadSize = 512, fineSize = 512, pad = None):\n",
    "    transform_list = []\n",
    "    \n",
    "    transform_list.append(transforms.Resize(loadSize, Image.BICUBIC))\n",
    "    transform_list.append(transforms.CenterCrop(fineSize))\n",
    "    if pad is not None:\n",
    "        transform_list.append(transforms.Pad(pad, padding_mode='reflect'))\n",
    "    \n",
    "    transform_list += [transforms.ToTensor(),\n",
    "                       transforms.Normalize((0.5, 0.5, 0.5),\n",
    "                                            (0.5, 0.5, 0.5))]\n",
    "    return transforms.Compose(transform_list)\n",
    "\n",
    "sz = 512\n",
    "fsz = sz\n",
    "padsz = 8 * (sz // 256)\n",
    "transform_fn = get_transform(loadSize = sz, fineSize = fsz, pad = padsz)\n",
    "transform_fn_style = get_transform(loadSize = sz, fineSize = fsz)\n",
    "\n",
    "def get_image(A_path, transf_fn):        \n",
    "    A_img = Image.open(A_path).convert('RGB')\n",
    "    A = transf_fn(A_img)\n",
    "    return A\n",
    "\n",
    "imgs = []\n",
    "for i in range(1,9):\n",
    "    img = get_image('samples/data/content_imgs/img%i.jpg' % i, transform_fn)\n",
    "    imgs.append(img)\n",
    "imgs = torch.stack(imgs)\n",
    "    \n",
    "print(img.shape)\n",
    "\n",
    "plt.figure()\n",
    "plt.imshow(renorm_0_1(imgs[0].permute(1, 2, 0)))\n",
    "\n",
    "\n",
    "styles = []\n",
    "for i in range(1,9):\n",
    "    style = get_image('samples/data/style_imgs/style%i.jpg' % i, transform_fn_style)\n",
    "    styles.append(style)\n",
    "styles = torch.stack(styles)\n",
    "    \n",
    "print(style.shape)\n",
    "\n",
    "plt.figure()\n",
    "plt.imshow(renorm_0_1(styles[0].permute(1, 2, 0)))\n",
    "\n"
   ]
  },
  {
   "cell_type": "code",
   "execution_count": null,
   "metadata": {},
   "outputs": [],
   "source": [
    "num_runs = len(imgs)\n",
    "num_styles = len(styles)\n",
    "\n",
    "# Test our model\n",
    "model = model_ours\n",
    "\n",
    "outs_ours = []\n",
    "\n",
    "for i in range(num_runs):   \n",
    "    for j in range(num_styles):\n",
    "        print('Processing sample %i.%i ...' % (i, j))\n",
    "        #j = i\n",
    "        real_A = imgs[i:i+1]\n",
    "        style_B = styles[j:j+1]\n",
    "        with torch.no_grad():\n",
    "            fake_B, z_cont_real_A, z_style_real_A, z_cont_style_B, z_style_B = model.netG.module.stylize_image([imgs[i:i+1].cuda(), styles[j:j+1].cuda()])\n",
    "        \n",
    "            if padsz is not None:\n",
    "                real_A = real_A[:, :, padsz:-padsz, padsz:-padsz]\n",
    "                fake_B = fake_B[:, :, padsz:-padsz, padsz:-padsz]\n",
    "\n",
    "        out_dict = {\n",
    "            'real_A': real_A.data.cpu().numpy()[0].transpose((1,2,0)), 'fake_B': fake_B.data.cpu().numpy()[0].transpose((1,2,0)), \n",
    "            'z_cont_real_A': z_cont_real_A.data.cpu().numpy(), 'z_cont_style_B': z_cont_style_B.data.cpu().numpy(),\n",
    "            'z_style_real_A': z_style_real_A.data.cpu().numpy(), 'z_style_B': z_style_B.data.cpu().numpy(), \n",
    "            'style_B': style_B.data.cpu().numpy().transpose(0, 2, 3, 1)\n",
    "        }\n",
    "        outs_ours.append(out_dict)\n",
    "\n",
    "    "
   ]
  },
  {
   "cell_type": "markdown",
   "metadata": {},
   "source": [
    "### Visualize some examples (in three columns: (source image, stylized image, target style)"
   ]
  },
  {
   "cell_type": "code",
   "execution_count": null,
   "metadata": {},
   "outputs": [],
   "source": [
    "import scipy as sp\n",
    "for i in range(len(outs_ours)):\n",
    "    out_dict = outs_ours[i]\n",
    "    real_A, fake_B = out_dict['real_A'], out_dict['fake_B']\n",
    "    style_B = out_dict['style_B']\n",
    "\n",
    "    fig = plt.figure(figsize = (16, 8))\n",
    "    ax = plt.subplot(131)\n",
    "    ax.set_title('Real A')\n",
    "    plt.imshow(renorm_0_1(real_A))\n",
    "    plt.axis('off')\n",
    "    ax = plt.subplot(132)\n",
    "    ax.set_title('Fake B')\n",
    "    plt.imshow(renorm_0_1(fake_B))\n",
    "    plt.axis('off')\n",
    "    ax = plt.subplot(133)\n",
    "    ax.set_title('Style B')\n",
    "    plt.imshow(renorm_0_1(style_B[0]))\n",
    "    plt.axis('off')"
   ]
  },
  {
   "cell_type": "markdown",
   "metadata": {},
   "source": [
    "# "
   ]
  }
 ],
 "metadata": {
  "kernelspec": {
   "display_name": "Python 3",
   "language": "python",
   "name": "python3"
  },
  "language_info": {
   "codemirror_mode": {
    "name": "ipython",
    "version": 3
   },
   "file_extension": ".py",
   "mimetype": "text/x-python",
   "name": "python",
   "nbconvert_exporter": "python",
   "pygments_lexer": "ipython3",
   "version": "3.8.5"
  }
 },
 "nbformat": 4,
 "nbformat_minor": 4
}
